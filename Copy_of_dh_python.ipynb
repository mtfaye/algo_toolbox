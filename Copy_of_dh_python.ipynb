{
  "nbformat": 4,
  "nbformat_minor": 0,
  "metadata": {
    "colab": {
      "name": "Copy of dh-python.ipynb",
      "provenance": [],
      "collapsed_sections": [],
      "include_colab_link": true
    },
    "kernelspec": {
      "name": "python3",
      "display_name": "Python 3"
    }
  },
  "cells": [
    {
      "cell_type": "markdown",
      "metadata": {
        "id": "view-in-github",
        "colab_type": "text"
      },
      "source": [
        "<a href=\"https://colab.research.google.com/github/mtfaye/algo_toolbox/blob/master/Copy_of_dh_python.ipynb\" target=\"_parent\"><img src=\"https://colab.research.google.com/assets/colab-badge.svg\" alt=\"Open In Colab\"/></a>"
      ]
    },
    {
      "cell_type": "markdown",
      "metadata": {
        "id": "7-lEi-A41LAR",
        "colab_type": "text"
      },
      "source": [
        "# **Dunnhumby - Python Test**"
      ]
    },
    {
      "cell_type": "markdown",
      "metadata": {
        "id": "3CkHHdxvroYJ",
        "colab_type": "text"
      },
      "source": [
        " I will approach the questions of this exercice by thinking of their application in a real world and in a larger scale of data. So I will be considering of building, if necessary re-usable functions to provide my answers.\n",
        "  I will try also to put as much as possible comprehensible comments to better explain the code written and the modules used. "
      ]
    },
    {
      "cell_type": "markdown",
      "metadata": {
        "id": "r4QIQA802Ol_",
        "colab_type": "text"
      },
      "source": [
        "# Section 1: General Python "
      ]
    },
    {
      "cell_type": "code",
      "metadata": {
        "id": "p5KwEVgc1Si8",
        "colab_type": "code",
        "colab": {}
      },
      "source": [
        "basket_values = [3.43,9.73,7.56,9.52,15.23,2.25,6.44,7.38]"
      ],
      "execution_count": 0,
      "outputs": []
    },
    {
      "cell_type": "markdown",
      "metadata": {
        "id": "0H62Lhu21d7q",
        "colab_type": "text"
      },
      "source": [
        "### 1 - a. Print out whether each basket is:\n",
        "small (basket value < £5),\n",
        "medium (£5 ≤ basket value < £10) \n",
        "or large (basket value ≥ £10)"
      ]
    },
    {
      "cell_type": "code",
      "metadata": {
        "colab_type": "code",
        "id": "gkVY1bajSoea",
        "colab": {}
      },
      "source": [
        "def basket_size(given_list):\n",
        "  # re-usable function that print out size of values for any given list \n",
        "\n",
        "  for i in given_list:\n",
        "    if i < 5:\n",
        "      print('Small : ',i)\n",
        "    if i >= 10:\n",
        "      print('Large : ',i)\n",
        "    if i >= 5 and i <10:\n",
        "      print('Medium: ',i)"
      ],
      "execution_count": 0,
      "outputs": []
    },
    {
      "cell_type": "code",
      "metadata": {
        "id": "_tFp9OSwSt2W",
        "colab_type": "code",
        "outputId": "90b39a55-e1e7-42b2-b147-ada5dd27d500",
        "colab": {
          "base_uri": "https://localhost:8080/",
          "height": 153
        }
      },
      "source": [
        "# use the function with basket_values list\n",
        "basket_size(basket_values)"
      ],
      "execution_count": 0,
      "outputs": [
        {
          "output_type": "stream",
          "text": [
            "Small :  3.43\n",
            "Medium:  9.73\n",
            "Medium:  7.56\n",
            "Medium:  9.52\n",
            "Large :  15.23\n",
            "Small :  2.25\n",
            "Medium:  6.44\n",
            "Medium:  7.38\n"
          ],
          "name": "stdout"
        }
      ]
    },
    {
      "cell_type": "markdown",
      "metadata": {
        "id": "u1KPR03g1-p_",
        "colab_type": "text"
      },
      "source": [
        "### 1 - b. Sum and print the value of the medium value baskets."
      ]
    },
    {
      "cell_type": "code",
      "metadata": {
        "id": "lUMul7Qw2DYi",
        "colab_type": "code",
        "colab": {}
      },
      "source": [
        "def mysum(basket_values):\n",
        "    # function that sum all the medium values baskets and return the total\n",
        "    \n",
        "    running_total = 0\n",
        "    # iterating on the list\n",
        "    for i in basket_values:\n",
        "      # selecting the values that match the condition\n",
        "      if i >= 5 and i <10:\n",
        "        # adding the values selected to sum \n",
        "        running_total = running_total + i\n",
        "    return running_total "
      ],
      "execution_count": 0,
      "outputs": []
    },
    {
      "cell_type": "code",
      "metadata": {
        "id": "ziL1QQ-bLkAQ",
        "colab_type": "code",
        "outputId": "fb93a41d-ae55-4367-90b3-e282c327578e",
        "colab": {
          "base_uri": "https://localhost:8080/",
          "height": 34
        }
      },
      "source": [
        "mysum(basket_values)"
      ],
      "execution_count": 0,
      "outputs": [
        {
          "output_type": "execute_result",
          "data": {
            "text/plain": [
              "40.63"
            ]
          },
          "metadata": {
            "tags": []
          },
          "execution_count": 5
        }
      ]
    },
    {
      "cell_type": "markdown",
      "metadata": {
        "id": "IV2NHbKU3_8q",
        "colab_type": "text"
      },
      "source": [
        "## 2. You are given the following nested dictionaries, which represent items in a basket:"
      ]
    },
    {
      "cell_type": "code",
      "metadata": {
        "id": "eHfcd_aYbYzt",
        "colab_type": "code",
        "colab": {}
      },
      "source": [
        "basket = {\n",
        "          '2624': {'price': 0.5, 'prod_name': 'salt'},\n",
        "          '2894': {'price': 3.25, 'prod_name': 'yeast'},\n",
        "          '7527': {'price': 2.5, 'prod_name': 'flour'}\n",
        "          }"
      ],
      "execution_count": 0,
      "outputs": []
    },
    {
      "cell_type": "markdown",
      "metadata": {
        "id": "Fyzf8uu53-GP",
        "colab_type": "text"
      },
      "source": [
        "### 2 - a. Return the product name for item 7527."
      ]
    },
    {
      "cell_type": "code",
      "metadata": {
        "id": "qcMQr7JFbksn",
        "colab_type": "code",
        "outputId": "f6daffa2-0ff4-4009-cd39-f5af10886d09",
        "colab": {
          "base_uri": "https://localhost:8080/",
          "height": 34
        }
      },
      "source": [
        "# access nested dict using indexing \n",
        "basket['7527']['prod_name']"
      ],
      "execution_count": 0,
      "outputs": [
        {
          "output_type": "execute_result",
          "data": {
            "text/plain": [
              "'flour'"
            ]
          },
          "metadata": {
            "tags": []
          },
          "execution_count": 7
        }
      ]
    },
    {
      "cell_type": "markdown",
      "metadata": {
        "id": "rG9hnZm4H4yh",
        "colab_type": "text"
      },
      "source": [
        "### 2 - b. Return the total value of this basket."
      ]
    },
    {
      "cell_type": "code",
      "metadata": {
        "id": "cMAT9ZOiHU5E",
        "colab_type": "code",
        "colab": {}
      },
      "source": [
        "sum = 0\n",
        "# iterating key value pair \n",
        "for key, value in basket.items(): \n",
        "\n",
        "    if value and 'price' in value.keys(): \n",
        "        # adding value of price to sum \n",
        "        sum += value['price'] "
      ],
      "execution_count": 0,
      "outputs": []
    },
    {
      "cell_type": "code",
      "metadata": {
        "id": "rmbaAaY1JbYh",
        "colab_type": "code",
        "outputId": "1688b476-7a36-468f-ee02-73654a725c3b",
        "colab": {
          "base_uri": "https://localhost:8080/",
          "height": 34
        }
      },
      "source": [
        "sum"
      ],
      "execution_count": 0,
      "outputs": [
        {
          "output_type": "execute_result",
          "data": {
            "text/plain": [
              "6.25"
            ]
          },
          "metadata": {
            "tags": []
          },
          "execution_count": 9
        }
      ]
    },
    {
      "cell_type": "markdown",
      "metadata": {
        "id": "Dz1RxEZXLzDZ",
        "colab_type": "text"
      },
      "source": [
        "### 2 - c. Add another entry for a product that costs £4.95, has ID 7524 and name ‘poppy seeds’."
      ]
    },
    {
      "cell_type": "code",
      "metadata": {
        "id": "rJcJhBrDL5_Y",
        "colab_type": "code",
        "colab": {}
      },
      "source": [
        "# insert new dict into basket\n",
        "basket['7524'] = {'price': 4.95, 'prod_name': 'poppy seeds'}"
      ],
      "execution_count": 0,
      "outputs": []
    },
    {
      "cell_type": "code",
      "metadata": {
        "id": "u6DUj2C7Mtex",
        "colab_type": "code",
        "outputId": "1b25abac-bba5-46e4-97d7-70c207458ff2",
        "colab": {
          "base_uri": "https://localhost:8080/",
          "height": 85
        }
      },
      "source": [
        "# print the updated basket\n",
        "basket"
      ],
      "execution_count": 0,
      "outputs": [
        {
          "output_type": "execute_result",
          "data": {
            "text/plain": [
              "{'2624': {'price': 0.5, 'prod_name': 'salt'},\n",
              " '2894': {'price': 3.25, 'prod_name': 'yeast'},\n",
              " '7524': {'price': 4.95, 'prod_name': 'poppy seeds'},\n",
              " '7527': {'price': 2.5, 'prod_name': 'flour'}}"
            ]
          },
          "metadata": {
            "tags": []
          },
          "execution_count": 11
        }
      ]
    },
    {
      "cell_type": "markdown",
      "metadata": {
        "id": "UU9Awa-WN5Fq",
        "colab_type": "text"
      },
      "source": [
        "## 3. Below is the source code for a function called ‘get_sql_string’.\n"
      ]
    },
    {
      "cell_type": "code",
      "metadata": {
        "id": "t9h8kSpROD17",
        "colab_type": "code",
        "outputId": "1ba61b52-87d6-429d-91db-a51c35308cf5",
        "colab": {
          "base_uri": "https://localhost:8080/",
          "height": 54
        }
      },
      "source": [
        "'''\n",
        "\n",
        "def get_sql_string(stores):\n",
        "    store_names = [x.split(', ')[0] for x in stores]\n",
        "    store_names = [x.replace(' ', '_') for x in store_names]\n",
        "    store_regions = [x.split(', ')[1] for x in stores]\n",
        "    locations = store_names + store_regions\n",
        "    columns = ['sales_' + x.lower() for x in locations]\n",
        "    \n",
        "    return ', '.join(columns)\n",
        "\n",
        "    '''"
      ],
      "execution_count": 0,
      "outputs": [
        {
          "output_type": "execute_result",
          "data": {
            "text/plain": [
              "\"\\n\\ndef get_sql_string(stores):\\n    store_names = [x.split(', ')[0] for x in stores]\\n    store_names = [x.replace(' ', '_') for x in store_names]\\n    store_regions = [x.split(', ')[1] for x in stores]\\n    locations = store_names + store_regions\\n    columns = ['sales_' + x.lower() for x in locations]\\n    \\n    return ', '.join(columns)\\n\\n    \""
            ]
          },
          "metadata": {
            "tags": []
          },
          "execution_count": 12
        }
      ]
    },
    {
      "cell_type": "markdown",
      "metadata": {
        "id": "7ikqpYVyOkdi",
        "colab_type": "text"
      },
      "source": [
        "### 3 - a. There is a bug in line 4. What should the line be?"
      ]
    },
    {
      "cell_type": "markdown",
      "metadata": {
        "id": "FoJrajHm1hBE",
        "colab_type": "text"
      },
      "source": [
        "- After compiling the function I actually found out that it is not throwing error the function is actually working.\n",
        "Now question is: Is the function doing what we want it to do? \n",
        "\n",
        "- After looking at it, I am assuming that we are trying to create a new column which have the sales of each store location.\n",
        "So the function consist to attach the word sales to the stores names with an underscores '_' , also attach all the words in the stores names with an underscored '_' and split the stores names to the stores regions into two different strings.\n",
        "- Now line 4, is to split the string combination of stores names and stores regions a string into a list where each of the stores names and stores regions is a list item.\n",
        "\n",
        "Line 4 looks fine to me! \n",
        "Instead of returning the join function with a comma ',' separator, I returned the column itself.\n",
        "Look the result in the following question."
      ]
    },
    {
      "cell_type": "markdown",
      "metadata": {
        "id": "N1sXgu8uwx6k",
        "colab_type": "text"
      },
      "source": [
        "### 3 - b. Assuming this bug was fixed, what would be returned if the following command was executed?\n",
        "\n",
        "my_stores = ['Fulham Palace Rd, Hammersmith', 'Crown St, Reading', 'Leavesden Green, Watford']\n",
        "\n",
        "get_sql_string(my_stores)"
      ]
    },
    {
      "cell_type": "code",
      "metadata": {
        "id": "rIpL20iFmWXE",
        "colab_type": "code",
        "colab": {}
      },
      "source": [
        "# my updated function\n",
        "def get_sql_string(stores):\n",
        "  store_names = [x.split(', ')[0] for x in stores]\n",
        "  store_names = [x.replace(' ', '_') for x in store_names]\n",
        "  store_regions = [x.split(',')[1] for x in stores]\n",
        "  locations = store_names + store_regions\n",
        "  columns = ['sales_' + x.lower() for x in locations]\n",
        "  \n",
        "  return columns"
      ],
      "execution_count": 0,
      "outputs": []
    },
    {
      "cell_type": "code",
      "metadata": {
        "id": "tyJ-GAC333Fd",
        "colab_type": "code",
        "outputId": "b5f4382d-d9c0-4637-a121-32cbe0d546b1",
        "colab": {
          "base_uri": "https://localhost:8080/",
          "height": 119
        }
      },
      "source": [
        "# The function return a list of sales stores name and sales  regions.\n",
        "# Hopefully this was the goal of the function \n",
        "\n",
        "my_stores = ['Fulham Palace Rd, Hammersmith', 'Crown St, Reading', 'Leavesden Green, Watford']\n",
        "get_sql_string(my_stores)"
      ],
      "execution_count": 0,
      "outputs": [
        {
          "output_type": "execute_result",
          "data": {
            "text/plain": [
              "['sales_fulham_palace_rd',\n",
              " 'sales_crown_st',\n",
              " 'sales_leavesden_green',\n",
              " 'sales_ hammersmith',\n",
              " 'sales_ reading',\n",
              " 'sales_ watford']"
            ]
          },
          "metadata": {
            "tags": []
          },
          "execution_count": 14
        }
      ]
    },
    {
      "cell_type": "markdown",
      "metadata": {
        "id": "PWClv6Tr2K-Y",
        "colab_type": "text"
      },
      "source": [
        "## 4. Write a function that:\n",
        "\n",
        "         a. accepts a list of strings as input;\n",
        "\n",
        "         b. returns an alphabetically ordered list of unique strings;\n",
        "\n",
        "         c. prints the string(s) with maximum length in the console."
      ]
    },
    {
      "cell_type": "code",
      "metadata": {
        "id": "8A2eEyGU45O1",
        "colab_type": "code",
        "colab": {}
      },
      "source": [
        "# create a list of strings\n",
        "string_list = ['dgddfg', 'sdf', 'ffs', 'asdd', 'hdfsdgsdggsdgdgd']"
      ],
      "execution_count": 0,
      "outputs": []
    },
    {
      "cell_type": "code",
      "metadata": {
        "id": "oEupLNAFyNmE",
        "colab_type": "code",
        "colab": {}
      },
      "source": [
        "def get_maxsort(string_list):\n",
        "# function that takes a list of strings, sort it and prints  the max length\n",
        "\n",
        "  # use python max function to return the max length\n",
        "  print('Max length:\\n')\n",
        "  print(max(string_list, key=len))\n",
        "  print('\\n')\n",
        "  \n",
        "  # use python sort function to order element alphabetically\n",
        "  new_list = sorted(string_list)\n",
        "  print('Alphabetically ordered:\\n')\n",
        "  return new_list"
      ],
      "execution_count": 0,
      "outputs": []
    },
    {
      "cell_type": "code",
      "metadata": {
        "id": "Tgs4LS_74L_2",
        "colab_type": "code",
        "outputId": "1b1bf6a9-8998-4adf-a72b-b76c11f66b20",
        "colab": {
          "base_uri": "https://localhost:8080/",
          "height": 153
        }
      },
      "source": [
        "get_maxsort(string_list)"
      ],
      "execution_count": 8,
      "outputs": [
        {
          "output_type": "stream",
          "text": [
            "Max length:\n",
            "\n",
            "hdfsdgsdggsdgdgd\n",
            "\n",
            "\n",
            "Alphabetically ordered:\n",
            "\n"
          ],
          "name": "stdout"
        },
        {
          "output_type": "execute_result",
          "data": {
            "text/plain": [
              "['asdd', 'dgddfg', 'ffs', 'hdfsdgsdggsdgdgd', 'sdf']"
            ]
          },
          "metadata": {
            "tags": []
          },
          "execution_count": 8
        }
      ]
    },
    {
      "cell_type": "markdown",
      "metadata": {
        "id": "mpuJ8thN58v9",
        "colab_type": "text"
      },
      "source": [
        "# Section 2: pandas data frames"
      ]
    },
    {
      "cell_type": "code",
      "metadata": {
        "id": "azcg71Mf0WJl",
        "colab_type": "code",
        "colab": {}
      },
      "source": [
        "# lets reproduce the 3 first columns of DEPT AND EMPLOYEE dataframes for a better illustration of this exercise"
      ],
      "execution_count": 0,
      "outputs": []
    },
    {
      "cell_type": "code",
      "metadata": {
        "id": "lYUd4iIVdC9i",
        "colab_type": "code",
        "colab": {}
      },
      "source": [
        "# necessary dependencies for this exercise\n",
        "import pandas as pd\n",
        "import datetime"
      ],
      "execution_count": 0,
      "outputs": []
    },
    {
      "cell_type": "code",
      "metadata": {
        "id": "J-F7BifjpQp_",
        "colab_type": "code",
        "outputId": "d663c55d-100e-495d-eab6-6931f3ed3523",
        "colab": {
          "base_uri": "https://localhost:8080/",
          "height": 142
        }
      },
      "source": [
        "data ={\n",
        "    'DEPTNO':[12, 7, 23], 'DNAME':['Finance', 'Operations', 'Marketing'], 'LOC':['London', 'Edinburgh', 'Paris']\n",
        "}\n",
        "dept = pd.DataFrame(data)\n",
        "dept"
      ],
      "execution_count": 0,
      "outputs": [
        {
          "output_type": "execute_result",
          "data": {
            "text/html": [
              "<div>\n",
              "<style scoped>\n",
              "    .dataframe tbody tr th:only-of-type {\n",
              "        vertical-align: middle;\n",
              "    }\n",
              "\n",
              "    .dataframe tbody tr th {\n",
              "        vertical-align: top;\n",
              "    }\n",
              "\n",
              "    .dataframe thead th {\n",
              "        text-align: right;\n",
              "    }\n",
              "</style>\n",
              "<table border=\"1\" class=\"dataframe\">\n",
              "  <thead>\n",
              "    <tr style=\"text-align: right;\">\n",
              "      <th></th>\n",
              "      <th>DEPTNO</th>\n",
              "      <th>DNAME</th>\n",
              "      <th>LOC</th>\n",
              "    </tr>\n",
              "  </thead>\n",
              "  <tbody>\n",
              "    <tr>\n",
              "      <th>0</th>\n",
              "      <td>12</td>\n",
              "      <td>Finance</td>\n",
              "      <td>London</td>\n",
              "    </tr>\n",
              "    <tr>\n",
              "      <th>1</th>\n",
              "      <td>7</td>\n",
              "      <td>Operations</td>\n",
              "      <td>Edinburgh</td>\n",
              "    </tr>\n",
              "    <tr>\n",
              "      <th>2</th>\n",
              "      <td>23</td>\n",
              "      <td>Marketing</td>\n",
              "      <td>Paris</td>\n",
              "    </tr>\n",
              "  </tbody>\n",
              "</table>\n",
              "</div>"
            ],
            "text/plain": [
              "   DEPTNO       DNAME        LOC\n",
              "0      12     Finance     London\n",
              "1       7  Operations  Edinburgh\n",
              "2      23   Marketing      Paris"
            ]
          },
          "metadata": {
            "tags": []
          },
          "execution_count": 20
        }
      ]
    },
    {
      "cell_type": "code",
      "metadata": {
        "id": "_sYipkTewnLO",
        "colab_type": "code",
        "outputId": "1b7f6a6e-e7af-4d68-cf88-c5d231c966ca",
        "colab": {
          "base_uri": "https://localhost:8080/",
          "height": 142
        }
      },
      "source": [
        "data_1 = {\n",
        "    'EMPNO':[3697, 5684, 1891], 'ENAME':['Smith', 'Davis', 'Jones'], 'JOB':['Developer', 'Manager', 'Analyst'],\n",
        "    'MGR':[5684, 8257, 5684], 'HIREDATE':['05/05/15', '22/03/09', '01/09/17'], 'SAL': [47000.00, 63000.00, 20000.00],\n",
        "    'DEPTNO':[11, 11, 23]\n",
        "}\n",
        "employee = pd.DataFrame(data_1)\n",
        "employee"
      ],
      "execution_count": 0,
      "outputs": [
        {
          "output_type": "execute_result",
          "data": {
            "text/html": [
              "<div>\n",
              "<style scoped>\n",
              "    .dataframe tbody tr th:only-of-type {\n",
              "        vertical-align: middle;\n",
              "    }\n",
              "\n",
              "    .dataframe tbody tr th {\n",
              "        vertical-align: top;\n",
              "    }\n",
              "\n",
              "    .dataframe thead th {\n",
              "        text-align: right;\n",
              "    }\n",
              "</style>\n",
              "<table border=\"1\" class=\"dataframe\">\n",
              "  <thead>\n",
              "    <tr style=\"text-align: right;\">\n",
              "      <th></th>\n",
              "      <th>EMPNO</th>\n",
              "      <th>ENAME</th>\n",
              "      <th>JOB</th>\n",
              "      <th>MGR</th>\n",
              "      <th>HIREDATE</th>\n",
              "      <th>SAL</th>\n",
              "      <th>DEPTNO</th>\n",
              "    </tr>\n",
              "  </thead>\n",
              "  <tbody>\n",
              "    <tr>\n",
              "      <th>0</th>\n",
              "      <td>3697</td>\n",
              "      <td>Smith</td>\n",
              "      <td>Developer</td>\n",
              "      <td>5684</td>\n",
              "      <td>05/05/15</td>\n",
              "      <td>47000.0</td>\n",
              "      <td>11</td>\n",
              "    </tr>\n",
              "    <tr>\n",
              "      <th>1</th>\n",
              "      <td>5684</td>\n",
              "      <td>Davis</td>\n",
              "      <td>Manager</td>\n",
              "      <td>8257</td>\n",
              "      <td>22/03/09</td>\n",
              "      <td>63000.0</td>\n",
              "      <td>11</td>\n",
              "    </tr>\n",
              "    <tr>\n",
              "      <th>2</th>\n",
              "      <td>1891</td>\n",
              "      <td>Jones</td>\n",
              "      <td>Analyst</td>\n",
              "      <td>5684</td>\n",
              "      <td>01/09/17</td>\n",
              "      <td>20000.0</td>\n",
              "      <td>23</td>\n",
              "    </tr>\n",
              "  </tbody>\n",
              "</table>\n",
              "</div>"
            ],
            "text/plain": [
              "   EMPNO  ENAME        JOB   MGR  HIREDATE      SAL  DEPTNO\n",
              "0   3697  Smith  Developer  5684  05/05/15  47000.0      11\n",
              "1   5684  Davis    Manager  8257  22/03/09  63000.0      11\n",
              "2   1891  Jones    Analyst  5684  01/09/17  20000.0      23"
            ]
          },
          "metadata": {
            "tags": []
          },
          "execution_count": 21
        }
      ]
    },
    {
      "cell_type": "markdown",
      "metadata": {
        "id": "XbyL-BMW8OSj",
        "colab_type": "text"
      },
      "source": [
        "## 1. Find the nth largest salary.\n"
      ]
    },
    {
      "cell_type": "code",
      "metadata": {
        "id": "2nqz0VDgUal4",
        "colab_type": "code",
        "outputId": "3dc7cd58-7755-488d-928d-5ae78a1d314c",
        "colab": {
          "base_uri": "https://localhost:8080/",
          "height": 80
        }
      },
      "source": [
        "# use built-in pandas method: nlargest \n",
        "# n is the number of row to return\n",
        "# for instance if n=5 the 5 highest salary will be returned\n",
        "n= 1\n",
        "employee.nlargest(n, ['SAL'])   # NOTE THAT THIS WILL RETURN A DATAFRAME "
      ],
      "execution_count": 0,
      "outputs": [
        {
          "output_type": "execute_result",
          "data": {
            "text/html": [
              "<div>\n",
              "<style scoped>\n",
              "    .dataframe tbody tr th:only-of-type {\n",
              "        vertical-align: middle;\n",
              "    }\n",
              "\n",
              "    .dataframe tbody tr th {\n",
              "        vertical-align: top;\n",
              "    }\n",
              "\n",
              "    .dataframe thead th {\n",
              "        text-align: right;\n",
              "    }\n",
              "</style>\n",
              "<table border=\"1\" class=\"dataframe\">\n",
              "  <thead>\n",
              "    <tr style=\"text-align: right;\">\n",
              "      <th></th>\n",
              "      <th>EMPNO</th>\n",
              "      <th>ENAME</th>\n",
              "      <th>JOB</th>\n",
              "      <th>MGR</th>\n",
              "      <th>HIREDATE</th>\n",
              "      <th>SAL</th>\n",
              "      <th>DEPTNO</th>\n",
              "    </tr>\n",
              "  </thead>\n",
              "  <tbody>\n",
              "    <tr>\n",
              "      <th>1</th>\n",
              "      <td>5684</td>\n",
              "      <td>Davis</td>\n",
              "      <td>Manager</td>\n",
              "      <td>8257</td>\n",
              "      <td>22/03/09</td>\n",
              "      <td>63000.0</td>\n",
              "      <td>11</td>\n",
              "    </tr>\n",
              "  </tbody>\n",
              "</table>\n",
              "</div>"
            ],
            "text/plain": [
              "   EMPNO  ENAME      JOB   MGR  HIREDATE      SAL  DEPTNO\n",
              "1   5684  Davis  Manager  8257  22/03/09  63000.0      11"
            ]
          },
          "metadata": {
            "tags": []
          },
          "execution_count": 22
        }
      ]
    },
    {
      "cell_type": "code",
      "metadata": {
        "id": "VGGFVOCixW3W",
        "colab_type": "code",
        "outputId": "a4409ee3-9cfc-4c40-db12-2be2e5e89197",
        "colab": {
          "base_uri": "https://localhost:8080/",
          "height": 51
        }
      },
      "source": [
        "# Now if we want to return a list of values of the highest salary\n",
        "# We can slice the dataframe by indexing (note that n is still equal to 1)\n",
        "employee.nlargest(n, ['SAL'])['SAL']   "
      ],
      "execution_count": 0,
      "outputs": [
        {
          "output_type": "execute_result",
          "data": {
            "text/plain": [
              "1    63000.0\n",
              "Name: SAL, dtype: float64"
            ]
          },
          "metadata": {
            "tags": []
          },
          "execution_count": 23
        }
      ]
    },
    {
      "cell_type": "markdown",
      "metadata": {
        "id": "mTXI0hO_ZO3E",
        "colab_type": "text"
      },
      "source": [
        "## 2. List the highest salary paid for each job."
      ]
    },
    {
      "cell_type": "code",
      "metadata": {
        "id": "yi_LwdWPZWWB",
        "colab_type": "code",
        "outputId": "8d0536c0-c376-410b-c1aa-f48a7705336a",
        "colab": {
          "base_uri": "https://localhost:8080/",
          "height": 102
        }
      },
      "source": [
        "# using groupby method\n",
        "employee.groupby('JOB')['SAL'].max()"
      ],
      "execution_count": 0,
      "outputs": [
        {
          "output_type": "execute_result",
          "data": {
            "text/plain": [
              "JOB\n",
              "Analyst      20000.0\n",
              "Developer    47000.0\n",
              "Manager      63000.0\n",
              "Name: SAL, dtype: float64"
            ]
          },
          "metadata": {
            "tags": []
          },
          "execution_count": 24
        }
      ]
    },
    {
      "cell_type": "markdown",
      "metadata": {
        "id": "8b4subcKdVNI",
        "colab_type": "text"
      },
      "source": [
        "### 3. In which year did most people join the company? Display the year and the number of Employees."
      ]
    },
    {
      "cell_type": "code",
      "metadata": {
        "id": "8eYQf5nzdaN-",
        "colab_type": "code",
        "outputId": "81acd7ae-ab78-46e5-e703-584445d03110",
        "colab": {
          "base_uri": "https://localhost:8080/",
          "height": 51
        }
      },
      "source": [
        "# count the frequence of occurence for each date on the dataframe \n",
        "# sort the list descending: from the year that appears the most to the year that appear the least\n",
        "# and then filter the first row of the list \n",
        "employee['HIREDATE'].value_counts(sort=True).head(1) "
      ],
      "execution_count": 0,
      "outputs": [
        {
          "output_type": "execute_result",
          "data": {
            "text/plain": [
              "01/09/17    1\n",
              "Name: HIREDATE, dtype: int64"
            ]
          },
          "metadata": {
            "tags": []
          },
          "execution_count": 25
        }
      ]
    },
    {
      "cell_type": "markdown",
      "metadata": {
        "id": "CSnPGTnItVMe",
        "colab_type": "text"
      },
      "source": [
        "### 4. Create a new column with the length of service of the Employees (in the form n years and m months)."
      ]
    },
    {
      "cell_type": "code",
      "metadata": {
        "id": "fCbQqe_i3Yba",
        "colab_type": "code",
        "colab": {}
      },
      "source": [
        "# first lets create a column of today's date using datetime module\n",
        "employee['TODAY_DATE'] = datetime.date.today().strftime(\"%d/%m/%y\")"
      ],
      "execution_count": 0,
      "outputs": []
    },
    {
      "cell_type": "code",
      "metadata": {
        "id": "S7Jz4_GqOxNg",
        "colab_type": "code",
        "colab": {}
      },
      "source": [
        "def get_diff(td):\n",
        "# function that calculates years and months difference\n",
        "\n",
        "    # get the number of years \n",
        "    nYear = float(td.days)/364.0 \n",
        "    nYear = int(nYear)\n",
        "    # get the number of months               \n",
        "    nMonth = int((nYear - int(nYear))*364/30)  \n",
        "   \n",
        "    # concat characters\n",
        "    return str(nYear) + 'y' + str(nMonth) + 'm'  "
      ],
      "execution_count": 0,
      "outputs": []
    },
    {
      "cell_type": "code",
      "metadata": {
        "id": "24xTnVvZvSWR",
        "colab_type": "code",
        "colab": {}
      },
      "source": [
        "# create the LEN_OF_SERVICE column and add the values\n",
        "employee['LEN_OF_SERVICE'] = [get_diff(datetime.datetime.strptime(TODAY_DATE, '%d/%m/%y') - datetime.datetime.strptime(HIREDATE,'%d/%m/%y'))\\\n",
        "               for HIREDATE, TODAY_DATE in zip(\n",
        "                   employee['HIREDATE'],\n",
        "                    employee['TODAY_DATE']\n",
        "                    )\n",
        "               ]"
      ],
      "execution_count": 0,
      "outputs": []
    },
    {
      "cell_type": "code",
      "metadata": {
        "id": "aHFCFuaMRxOj",
        "colab_type": "code",
        "outputId": "9bdc3156-dc0c-4660-b9aa-1af1497fdb42",
        "colab": {
          "base_uri": "https://localhost:8080/",
          "height": 142
        }
      },
      "source": [
        "# see result\n",
        "employee"
      ],
      "execution_count": 0,
      "outputs": [
        {
          "output_type": "execute_result",
          "data": {
            "text/html": [
              "<div>\n",
              "<style scoped>\n",
              "    .dataframe tbody tr th:only-of-type {\n",
              "        vertical-align: middle;\n",
              "    }\n",
              "\n",
              "    .dataframe tbody tr th {\n",
              "        vertical-align: top;\n",
              "    }\n",
              "\n",
              "    .dataframe thead th {\n",
              "        text-align: right;\n",
              "    }\n",
              "</style>\n",
              "<table border=\"1\" class=\"dataframe\">\n",
              "  <thead>\n",
              "    <tr style=\"text-align: right;\">\n",
              "      <th></th>\n",
              "      <th>EMPNO</th>\n",
              "      <th>ENAME</th>\n",
              "      <th>JOB</th>\n",
              "      <th>MGR</th>\n",
              "      <th>HIREDATE</th>\n",
              "      <th>SAL</th>\n",
              "      <th>DEPTNO</th>\n",
              "      <th>TODAY_DATE</th>\n",
              "      <th>LEN_OF_SERVICE</th>\n",
              "    </tr>\n",
              "  </thead>\n",
              "  <tbody>\n",
              "    <tr>\n",
              "      <th>0</th>\n",
              "      <td>3697</td>\n",
              "      <td>Smith</td>\n",
              "      <td>Developer</td>\n",
              "      <td>5684</td>\n",
              "      <td>05/05/15</td>\n",
              "      <td>47000.0</td>\n",
              "      <td>11</td>\n",
              "      <td>09/01/20</td>\n",
              "      <td>4y0m</td>\n",
              "    </tr>\n",
              "    <tr>\n",
              "      <th>1</th>\n",
              "      <td>5684</td>\n",
              "      <td>Davis</td>\n",
              "      <td>Manager</td>\n",
              "      <td>8257</td>\n",
              "      <td>22/03/09</td>\n",
              "      <td>63000.0</td>\n",
              "      <td>11</td>\n",
              "      <td>09/01/20</td>\n",
              "      <td>10y0m</td>\n",
              "    </tr>\n",
              "    <tr>\n",
              "      <th>2</th>\n",
              "      <td>1891</td>\n",
              "      <td>Jones</td>\n",
              "      <td>Analyst</td>\n",
              "      <td>5684</td>\n",
              "      <td>01/09/17</td>\n",
              "      <td>20000.0</td>\n",
              "      <td>23</td>\n",
              "      <td>09/01/20</td>\n",
              "      <td>2y0m</td>\n",
              "    </tr>\n",
              "  </tbody>\n",
              "</table>\n",
              "</div>"
            ],
            "text/plain": [
              "   EMPNO  ENAME        JOB   MGR  ...      SAL  DEPTNO  TODAY_DATE LEN_OF_SERVICE\n",
              "0   3697  Smith  Developer  5684  ...  47000.0      11    09/01/20           4y0m\n",
              "1   5684  Davis    Manager  8257  ...  63000.0      11    09/01/20          10y0m\n",
              "2   1891  Jones    Analyst  5684  ...  20000.0      23    09/01/20           2y0m\n",
              "\n",
              "[3 rows x 9 columns]"
            ]
          },
          "metadata": {
            "tags": []
          },
          "execution_count": 29
        }
      ]
    },
    {
      "cell_type": "markdown",
      "metadata": {
        "id": "tv8kGVOIuzF_",
        "colab_type": "text"
      },
      "source": [
        "## 5. List all the Employees who have at least one person reporting to them."
      ]
    },
    {
      "cell_type": "code",
      "metadata": {
        "id": "FzVy-564u1cM",
        "colab_type": "code",
        "outputId": "c7dabc99-a6f2-4df2-9bdd-5b4943db5a9e",
        "colab": {
          "base_uri": "https://localhost:8080/",
          "height": 68
        }
      },
      "source": [
        "# value_counts() method count the frequence of occurence \n",
        "# if we apply it to column MGR, it will return the number of time each employee number MGR is assign to an employee\n",
        "employee['MGR'].value_counts()"
      ],
      "execution_count": 0,
      "outputs": [
        {
          "output_type": "execute_result",
          "data": {
            "text/plain": [
              "5684    2\n",
              "8257    1\n",
              "Name: MGR, dtype: int64"
            ]
          },
          "metadata": {
            "tags": []
          },
          "execution_count": 30
        }
      ]
    },
    {
      "cell_type": "markdown",
      "metadata": {
        "id": "nXDx3b91u2Xr",
        "colab_type": "text"
      },
      "source": [
        "## 6. Calculate and list the Employees who earn more than the average salary of their department."
      ]
    },
    {
      "cell_type": "code",
      "metadata": {
        "id": "6LumPo55u6At",
        "colab_type": "code",
        "colab": {}
      },
      "source": [
        "#Create a new column 'MEAN_SAL' which have the average salary for each employee's department\n",
        "mean_salary = employee.groupby('DEPTNO')['SAL'].aggregate('mean').rename('MEAN_SAL').reset_index()"
      ],
      "execution_count": 0,
      "outputs": []
    },
    {
      "cell_type": "code",
      "metadata": {
        "id": "zCcUvAfIxxXh",
        "colab_type": "code",
        "colab": {}
      },
      "source": [
        "# Merge the column\n",
        "employee = employee.merge(mean_salary)"
      ],
      "execution_count": 0,
      "outputs": []
    },
    {
      "cell_type": "code",
      "metadata": {
        "id": "1jcizkxADC8N",
        "colab_type": "code",
        "colab": {}
      },
      "source": [
        "# Create a 2nd column 'IS_ABOVE_AVG_SALARY' which have Boolean values: True when is above average and false when is not\n",
        "employee['IS_ABOVE_AVG_SALARY'] = employee['MEAN_SAL'] < employee['SAL']"
      ],
      "execution_count": 0,
      "outputs": []
    },
    {
      "cell_type": "code",
      "metadata": {
        "id": "33bKpOU5dppf",
        "colab_type": "code",
        "outputId": "a162e078-8d5e-4cf9-ffdb-481a11fe1bc6",
        "colab": {
          "base_uri": "https://localhost:8080/",
          "height": 80
        }
      },
      "source": [
        "# Filter all the True values from IS_ABOVE_AVG_SALARY column\n",
        "# THIS WILL RETURN A DATAFRAME OF THE EMPLOYEES WHO EARN MORE THAN THE AVG SALARY OF THEIR DEPARTMENT\n",
        "employee.loc[employee.IS_ABOVE_AVG_SALARY == True] "
      ],
      "execution_count": 0,
      "outputs": [
        {
          "output_type": "execute_result",
          "data": {
            "text/html": [
              "<div>\n",
              "<style scoped>\n",
              "    .dataframe tbody tr th:only-of-type {\n",
              "        vertical-align: middle;\n",
              "    }\n",
              "\n",
              "    .dataframe tbody tr th {\n",
              "        vertical-align: top;\n",
              "    }\n",
              "\n",
              "    .dataframe thead th {\n",
              "        text-align: right;\n",
              "    }\n",
              "</style>\n",
              "<table border=\"1\" class=\"dataframe\">\n",
              "  <thead>\n",
              "    <tr style=\"text-align: right;\">\n",
              "      <th></th>\n",
              "      <th>EMPNO</th>\n",
              "      <th>ENAME</th>\n",
              "      <th>JOB</th>\n",
              "      <th>MGR</th>\n",
              "      <th>HIREDATE</th>\n",
              "      <th>SAL</th>\n",
              "      <th>DEPTNO</th>\n",
              "      <th>TODAY_DATE</th>\n",
              "      <th>LEN_OF_SERVICE</th>\n",
              "      <th>MEAN_SAL</th>\n",
              "      <th>IS_ABOVE_AVG_SALARY</th>\n",
              "    </tr>\n",
              "  </thead>\n",
              "  <tbody>\n",
              "    <tr>\n",
              "      <th>1</th>\n",
              "      <td>5684</td>\n",
              "      <td>Davis</td>\n",
              "      <td>Manager</td>\n",
              "      <td>8257</td>\n",
              "      <td>22/03/09</td>\n",
              "      <td>63000.0</td>\n",
              "      <td>11</td>\n",
              "      <td>09/01/20</td>\n",
              "      <td>10y0m</td>\n",
              "      <td>55000.0</td>\n",
              "      <td>True</td>\n",
              "    </tr>\n",
              "  </tbody>\n",
              "</table>\n",
              "</div>"
            ],
            "text/plain": [
              "   EMPNO  ENAME      JOB  ...  LEN_OF_SERVICE MEAN_SAL  IS_ABOVE_AVG_SALARY\n",
              "1   5684  Davis  Manager  ...           10y0m  55000.0                 True\n",
              "\n",
              "[1 rows x 11 columns]"
            ]
          },
          "metadata": {
            "tags": []
          },
          "execution_count": 34
        }
      ]
    }
  ]
}